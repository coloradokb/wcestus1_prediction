{
 "cells": [
  {
   "cell_type": "code",
   "execution_count": 1,
   "metadata": {
    "tags": []
   },
   "outputs": [],
   "source": [
    "# Import modules and packages\n",
    "import os\n",
    "import numpy as np\n",
    "import pandas as pd\n",
    "import matplotlib.pyplot as plt\n",
    "import datetime as dt\n",
    "\n",
    "import tensorflow as tf\n",
    "\n",
    "from datetime import datetime\n",
    "from keras.layers import RepeatVector\n",
    "from keras.layers import TimeDistributed\n",
    "from keras.losses import Huber, MeanSquaredError\n",
    "from keras.callbacks import EarlyStopping, ReduceLROnPlateau, ModelCheckpoint, TensorBoard\n",
    "from keras.models import Sequential\n",
    "from keras.layers import Dense\n",
    "from keras.layers import LSTM\n",
    "from keras.layers import Dropout\n",
    "from keras.optimizers import Adam\n",
    "\n",
    "from functools import reduce\n",
    "\n",
    "%matplotlib inline"
   ]
  },
  {
   "cell_type": "code",
   "execution_count": 2,
   "metadata": {
    "tags": []
   },
   "outputs": [
    {
     "name": "stdout",
     "output_type": "stream",
     "text": [
      "TAIL:             WCESTUS1  WCRSTUS1  WCESTP11  WCESTP21  W_EPC0_SAX_YCUOK_MBBL  \\\n",
      "Date                                                                        \n",
      "2020-11-20    488721   1126911   10131.0  146251.0                59892.0   \n",
      "2020-11-27    488042   1126232   10489.0  146859.0                59575.0   \n",
      "2020-12-04    503231   1141316   10611.0  146740.0                58211.0   \n",
      "2020-12-11    500096   1138182   11553.0  146377.0                58409.0   \n",
      "2020-12-18    499534   1137619   10831.0  146410.0                58383.0   \n",
      "\n",
      "            WCESTP31  WCESTP41  WCESTP51  W_EPC0_SKA_NUS_MBBL  WCSSTUS1  \\\n",
      "Date                                                                      \n",
      "2020-11-20  262822.0   24272.0   45244.0               2522.0    638190   \n",
      "2020-11-27  262170.0   23964.0   44561.0               4172.0    638190   \n",
      "2020-12-04  273963.0   24165.0   47753.0               2685.0    638085   \n",
      "2020-12-11  270993.0   24464.0   46709.0               4434.0    638086   \n",
      "2020-12-18  272147.0   24479.0   45667.0               1495.0    638085   \n",
      "\n",
      "                ICSA  RCLC1  \n",
      "Date                         \n",
      "2020-11-20  758000.0  41.70  \n",
      "2020-11-27  757000.0  44.80  \n",
      "2020-12-04  711000.0  45.41  \n",
      "2020-12-11  748000.0  46.05  \n",
      "2020-12-18  787000.0  47.98  \n",
      "Training set shape: (551, 12)\n",
      "All timestamps:    551\n"
     ]
    }
   ],
   "source": [
    "def retrieve_datasets(icsa_shift):\n",
    "    \"\"\"\n",
    "    Importing data files-eia barrels, eia pricing and icsa unemployment (weekly) claims. \n",
    "    \"\"\"\n",
    "    eia_df = pd.read_csv(\"data/all_eia_stock_sheet_latest.csv\",header=0,\n",
    "                                infer_datetime_format=True, delimiter=';',parse_dates=['Date'], index_col=['Date']) \t#Date 2\tAug 27, 1982\n",
    "    \n",
    "    eia_pricing_df = pd.read_csv('data/eia_pricing_latest.csv',header=0,\n",
    "                                infer_datetime_format=True, delimiter=';',parse_dates=['Date'], index_col=['Date']) \t#Date 2\tAug 27, 1982\n",
    "    #eia_pricing_df = eia_pricing_df.shift(0)\n",
    "    \n",
    "    icsa_df = pd.read_csv('data/ICSA_current.csv',header=0,\n",
    "                          infer_datetime_format=True, delimiter=',',\n",
    "                          parse_dates=['DATE'] ,index_col=['DATE'])\n",
    "   \n",
    "    # this is for future consideration...using the monthly unemployment rate may help smooth out predictions.\n",
    "    # the smoothing and upsampling from monthly to weekly will be done in the data_grabber file\n",
    "    # unrate_df = pd.read_csv('data/UNRATE_resample.csv',header=0,\n",
    "    #                      infer_datetime_format=True, delimiter=';',\n",
    "    #                      parse_dates=['Date'] ,index_col=['Date'])\n",
    "    \n",
    "    \n",
    "\n",
    "    #shift back one day to match and pair with s&p dates that line up with EIA (eia_df) dates\n",
    "    icsa_df.index = icsa_df.index + pd.Timedelta(days=-1)\n",
    "\n",
    "    #rename index and shift back x periods as unemployement data *should* be indicator later...periods = weeks\n",
    "    icsa_df.index = icsa_df.index.rename('Date')\n",
    "    icsa_df = icsa_df.shift(periods=icsa_shift)\n",
    "      \n",
    "    return (eia_df, eia_pricing_df, icsa_df) \n",
    "\n",
    "retrieve_datasets(4)\n",
    "\n",
    "def combine_datasets(datasets, start_date, end_date):\n",
    "    \"\"\"\n",
    "    We expect an list of dataframes to iterate over and create a final combined df\n",
    "    Expected column key for the join is 'Date'\n",
    "    \"\"\"\n",
    "\n",
    "\n",
    "    df_list = list(range(0, len(datasets)))\n",
    "    dataset_list = list()\n",
    "    for i in df_list:\n",
    "        dataset_list.append(datasets[i])\n",
    "    \n",
    "    cols = ['WCESTUS1','WCRSTUS1','WCESTP11','WCESTP21','W_EPC0_SAX_YCUOK_MBBL','WCESTP31','WCESTP41','WCESTP51','W_EPC0_SKA_NUS_MBBL',\n",
    "            'WCSSTUS1','ICSA','RCLC1']\n",
    "    combo_df = reduce(lambda  left,right: pd.merge(left,right,on=['Date'],\n",
    "                                                   how='inner'), dataset_list)\n",
    "    combo_df = combo_df.sort_index(ascending=True)\n",
    "    combo_df = combo_df[cols] #'WCSSTUS1',\n",
    "    combo_df.dropna(inplace=True) #just in case, drop non numbers\n",
    "    \n",
    "    #only use data from 2010 as this is beginning of some of the columns of data in eia barrels data\n",
    "    combo_df = combo_df[start_date:end_date]\n",
    "\n",
    "    return combo_df\n",
    "\n",
    "#fetch all the data from .csv then combine them into one single df on 'Date' index\n",
    "datasets   = retrieve_datasets(4)\n",
    "start_date = '2010-01-01'\n",
    "end_date   = '2022-12-31'\n",
    "combo_df   = combine_datasets(datasets, start_date, end_date)\n",
    "cols       = list(combo_df.columns)\n",
    "\n",
    "dataset_train = combo_df\n",
    "\n",
    "n_future = 1   # Number of weeks we want to predict into the future\n",
    "n_past   = 3   # Number of past weeks we want to use to predict the future\n",
    "\n",
    "#get list of dates for plotting from the index (Date) column\n",
    "datelist_train = list(dataset_train.index)\n",
    "\n",
    "\n",
    "print(f'Training set shape: {dataset_train.shape}')"
   ]
  },
  {
   "cell_type": "code",
   "execution_count": 3,
   "metadata": {
    "tags": []
   },
   "outputs": [
    {
     "name": "stdout",
     "output_type": "stream",
     "text": [
      "Shape of training set == (551, 12).\n"
     ]
    }
   ],
   "source": [
    "\n",
    "dataset_train = dataset_train.astype(float)\n",
    "\n",
    "# Using multiple features (predictors)\n",
    "training_set = dataset_train.values\n",
    "\n",
    "print(f'Shape of training set == {training_set.shape}.')\n"
   ]
  },
  {
   "cell_type": "code",
   "execution_count": 4,
   "metadata": {
    "tags": []
   },
   "outputs": [
    {
     "name": "stdout",
     "output_type": "stream",
     "text": [
      "class:  ndarray\n",
      "shape:  (551, 12)\n",
      "strides:  (8, 4408)\n",
      "itemsize:  8\n",
      "aligned:  True\n",
      "contiguous:  False\n",
      "fortran:  True\n",
      "data pointer: 0x5d18ad0\n",
      "byteorder:  little\n",
      "byteswap:  False\n",
      "type: float64\n"
     ]
    }
   ],
   "source": [
    "# Feature Scaling\n",
    "from sklearn.preprocessing import StandardScaler\n",
    "\n",
    "sc = StandardScaler()\n",
    "training_set_scaled = sc.fit_transform(training_set)\n",
    "\n",
    "sc_predict = StandardScaler()\n",
    "sc_predict.fit_transform(training_set[:, 0:1])\n",
    "\n",
    "np.info(training_set_scaled)\n"
   ]
  },
  {
   "cell_type": "code",
   "execution_count": 5,
   "metadata": {
    "tags": []
   },
   "outputs": [
    {
     "name": "stdout",
     "output_type": "stream",
     "text": [
      "X_train shape == (548, 3, 12)\n",
      "y_train shape == (548, 1)\n"
     ]
    }
   ],
   "source": [
    "X_train = []\n",
    "y_train = []\n",
    "\n",
    "for i in range(n_past, len(training_set_scaled) - n_future +1):\n",
    "    X_train.append(training_set_scaled[i - n_past:i, 0:dataset_train.shape[1]])\n",
    "    y_train.append(training_set_scaled[i + n_future - 1:i + n_future, 0])\n",
    "\n",
    "X_train, y_train = np.array(X_train), np.array(y_train)\n",
    "print(f'X_train shape == {format(X_train.shape)}')\n",
    "print(f'y_train shape == {format(y_train.shape)}')"
   ]
  },
  {
   "cell_type": "markdown",
   "metadata": {},
   "source": [
    "<h4>Create a model & Training</h4>"
   ]
  },
  {
   "cell_type": "code",
   "execution_count": 6,
   "metadata": {
    "tags": []
   },
   "outputs": [],
   "source": [
    "model = Sequential()\n",
    "model.add(LSTM(units=64, return_sequences=True, input_shape=(n_past, dataset_train.shape[1])))\n",
    "model.add(LSTM(units=128, return_sequences=True))\n",
    "model.add(Dropout(0.4))\n",
    "model.add(LSTM(units=256, return_sequences=False))\n",
    "model.add(Dropout(0.4))\n",
    "model.add(Dense(units=1, activation='relu'))"
   ]
  },
  {
   "cell_type": "markdown",
   "metadata": {},
   "source": [
    "<h3>Start training</h3>"
   ]
  },
  {
   "cell_type": "markdown",
   "metadata": {},
   "source": [
    "<p>\n",
    "Notes:<br>\n",
    "<ul>\n",
    "<li><b>EarlyStopping</b> - Stop training when a monitored metric has stopped improving.</li>\n",
    "<li><code>monitor</code> - quantity to be monitored.</li>\n",
    "<li><code>min_delta</code> - minimum change in the monitored quantity to qualify as an improvement, i.e. an absolute change of less than <code>min_delta</code>, will count as no improvement.</li>\n",
    "<li><code>patience</code> - number of epochs with no improvement after which training will be stopped.</li>\n",
    "</ul>\n",
    "\n",
    "<ul>\n",
    "<li><b>ReduceLROnPlateau</b> - Reduce learning rate when a metric has stopped improving.</li>\n",
    "<li><code>factor</code> - factor by which the learning rate will be reduced. <code>new_lr = lr * factor</code>.</li>\n",
    "</ul>\n",
    "</p>\n"
   ]
  },
  {
   "cell_type": "code",
   "execution_count": 7,
   "metadata": {
    "tags": []
   },
   "outputs": [
    {
     "name": "stdout",
     "output_type": "stream",
     "text": [
      "0.029096167407591234\n",
      "CPU times: user 1min 10s, sys: 7.09 s, total: 1min 17s\n",
      "Wall time: 22.4 s\n"
     ]
    }
   ],
   "source": [
    "%%time\n",
    "MAX_EPOCHS = 30\n",
    "model_name = f'{start_date}_to_{end_date}_past-{n_past}_future-{n_future}_final_weights.h5'\n",
    "#es = EarlyStopping(monitor='val_loss', mode='auto',min_delta=1e-7, patience=10, verbose=0)\n",
    "rlr = ReduceLROnPlateau(monitor='val_loss', factor=0.1, patience=10, verbose=0)\n",
    "mcp = ModelCheckpoint(filepath='models/mv_latest_weights.h5', monitor='val_loss', verbose=0, save_best_only=True, save_weights_only=True)\n",
    "tb = TensorBoard('logs')\n",
    "\n",
    "early_stopping = EarlyStopping(monitor='val_loss', patience=20, mode='max', min_delta=1e-5)\n",
    "\n",
    "model.compile(optimizer = Adam(learning_rate=0.001), loss=Huber())\n",
    "history = model.fit(X_train, y_train,shuffle=False, validation_split=0.03,verbose=0,batch_size=6, epochs=MAX_EPOCHS,callbacks=[rlr, mcp, early_stopping])\n",
    "\n",
    "print(np.mean(history.history[\"val_loss\"]))"
   ]
  },
  {
   "cell_type": "code",
   "execution_count": 8,
   "metadata": {},
   "outputs": [
    {
     "name": "stdout",
     "output_type": "stream",
     "text": [
      "Model performance on initial training was good ==> 0.029096167407591234.\n",
      "Saving model 2010-01-01_to_2022-12-31_past-3_future-1_final_weights.h5! :)\n",
      "CPU times: user 1min 35s, sys: 9.73 s, total: 1min 45s\n",
      "Wall time: 28.3 s\n"
     ]
    }
   ],
   "source": [
    "%%time\n",
    "if np.mean(history.history[\"val_loss\"]) < 0.05: #model seems decent enough, let's re-train up to last val w/out any validation split \n",
    "    print(f'Model performance on initial training was good ==> {np.mean(history.history[\"val_loss\"])}.\\nSaving model {model_name}! :)')\n",
    "    from keras import backend as K \n",
    "    K.clear_session()\n",
    "    model.compile(optimizer = Adam(learning_rate=0.001), loss=Huber())\n",
    "    model.fit(X_train, y_train,shuffle=False, verbose=0,batch_size=6, epochs=MAX_EPOCHS)\n",
    "    model.save(f'models/{model_name}')\n",
    "else:\n",
    "    print(f'Model performance was poor ==> {np.mean(history.history[\"val_loss\"])}.\\nNot saving model :(')"
   ]
  },
  {
   "cell_type": "code",
   "execution_count": 9,
   "metadata": {},
   "outputs": [
    {
     "name": "stdout",
     "output_type": "stream",
     "text": [
      "[Timestamp('2020-12-18 00:00:00', freq='7D')] 1\n",
      "<class 'list'>\n",
      "[Timestamp('2020-12-18 00:00:00', freq='7D')]\n"
     ]
    }
   ],
   "source": [
    "# Generate list of sequence of days for predictions\n",
    "datelist_future = pd.date_range(datelist_train[-1], periods=n_future, freq='7d').tolist()\n",
    "\n",
    "'''\n",
    "Remember, we have datelist_train from begining.\n",
    "'''\n",
    "# Convert Pandas Timestamp to Datetime object (for transformation) --> FUTURE\n",
    "datelist_future_ = []\n",
    "for this_timestamp in datelist_future:\n",
    "    datelist_future_.append(this_timestamp.date())\n"
   ]
  },
  {
   "cell_type": "code",
   "execution_count": 10,
   "metadata": {
    "tags": []
   },
   "outputs": [],
   "source": [
    "# Perform predictions\n",
    "\n",
    "predictions_future = model.predict(X_train[-n_future:])\n",
    "predictions_train  = model.predict(X_train[n_past:])\n",
    "predictions_future = predictions_future.reshape(n_future,1)\n",
    "predictions_train  = predictions_train.reshape(len(predictions_train),1)"
   ]
  },
  {
   "cell_type": "code",
   "execution_count": 11,
   "metadata": {},
   "outputs": [
    {
     "name": "stdout",
     "output_type": "stream",
     "text": [
      "(545, 1)\n",
      "(1, 1)\n"
     ]
    }
   ],
   "source": [
    "y_pred_future = sc_predict.inverse_transform(predictions_future)\n",
    "y_pred_train = sc_predict.inverse_transform(predictions_train)\n",
    "\n",
    "print(y_pred_train.shape)\n",
    "print(y_pred_future.shape)"
   ]
  },
  {
   "cell_type": "code",
   "execution_count": 12,
   "metadata": {
    "tags": []
   },
   "outputs": [
    {
     "name": "stdout",
     "output_type": "stream",
     "text": [
      "                WCESTUS1\n",
      "2020-12-25  490303.96875\n"
     ]
    }
   ],
   "source": [
    "# Inverse the predictions to original measurements\n",
    "# ---> Special function: convert <datetime.date> to <Timestamp>\n",
    "def datetime_to_timestamp(x):\n",
    "    '''\n",
    "        x : a given datetime value (datetime.date)\n",
    "    '''\n",
    "    return datetime.strptime(x.strftime('%Y%m%d'), '%Y%m%d')\n",
    "\n",
    "y_pred_future = sc_predict.inverse_transform(predictions_future)\n",
    "y_pred_train = sc_predict.inverse_transform(predictions_train)\n",
    "\n",
    "PREDICTIONS_FUTURE = pd.DataFrame(y_pred_future, columns=['WCESTUS1']).set_index(pd.Series(datelist_future))\n",
    "PREDICTION_TRAIN = pd.DataFrame(y_pred_train, columns=['WCESTUS1']).set_index(pd.Series(datelist_train[2 * n_past + n_future -1:]))\n",
    "\n",
    "# Convert <datetime.date> to <Timestamp> for PREDCITION_TRAIN\n",
    "PREDICTION_TRAIN.index = PREDICTION_TRAIN.index.to_series().apply(datetime_to_timestamp)\n",
    "PREDICTION_TRAIN,PREDICTIONS_FUTURE\n",
    "PREDICTIONS_FUTURE.index = PREDICTIONS_FUTURE.index + pd.DateOffset(days=7) #timedelta(days=7)"
   ]
  },
  {
   "cell_type": "markdown",
   "metadata": {},
   "source": [
    "<h3>Visualize the Predictions</h3>"
   ]
  },
  {
   "cell_type": "code",
   "execution_count": 13,
   "metadata": {},
   "outputs": [
    {
     "data": {
      "image/png": "[encoded data removed]",
      "text/plain": [
       "<Figure size 1008x576 with 1 Axes>"
      ]
     },
     "metadata": {
      "needs_background": "light"
     },
     "output_type": "display_data"
    },
    {
     "name": "stdout",
     "output_type": "stream",
     "text": [
      "2020-12-25    490303.96875\n",
      "Name: WCESTUS1, dtype: float32\n"
     ]
    }
   ],
   "source": [
    "# Set plot size \n",
    "from pylab import rcParams\n",
    "rcParams['figure.figsize'] = 14, 8\n",
    "\n",
    "# Plot parameters\n",
    "START_DATE_FOR_PLOTTING = '2020-10-01'\n",
    "\n",
    "plt.plot(PREDICTIONS_FUTURE.index, PREDICTIONS_FUTURE['WCESTUS1'], color='r', marker='o', label='Predicted Barrels')\n",
    "plt.plot(PREDICTION_TRAIN.loc[START_DATE_FOR_PLOTTING:].index, PREDICTION_TRAIN.loc[START_DATE_FOR_PLOTTING:]['WCESTUS1'], color='orange', label='Training predictions')\n",
    "plt.plot(dataset_train.loc[START_DATE_FOR_PLOTTING:].index, dataset_train.loc[START_DATE_FOR_PLOTTING:]['WCESTUS1'], color='b', label='Actual Barrels')\n",
    "\n",
    "plt.axvline(x = min(PREDICTIONS_FUTURE.index), color='green', linewidth=2, linestyle='--')\n",
    "\n",
    "plt.grid(which='major', color='#cccccc', alpha=0.2)\n",
    "\n",
    "plt.legend(shadow=True)\n",
    "plt.title('Predcitions and Acutal Supplies', fontsize=12)\n",
    "plt.xlabel('Timeline', fontsize=10)\n",
    "plt.ylabel('Barrels', family='Arial', fontsize=10)\n",
    "plt.xticks(rotation=45, fontsize=8)\n",
    "plt.show()\n",
    "\n",
    "print(PREDICTIONS_FUTURE['WCESTUS1'])"
   ]
  },
  {
   "cell_type": "code",
   "execution_count": null,
   "metadata": {},
   "outputs": [],
   "source": []
  },
  {
   "cell_type": "code",
   "execution_count": null,
   "metadata": {},
   "outputs": [],
   "source": []
  }
 ],
 "metadata": {
  "kernelspec": {
   "display_name": "Python 3",
   "language": "python",
   "name": "python3"
  },
  "language_info": {
   "codemirror_mode": {
    "name": "ipython",
    "version": 3
   },
   "file_extension": ".py",
   "mimetype": "text/x-python",
   "name": "python",
   "nbconvert_exporter": "python",
   "pygments_lexer": "ipython3",
   "version": "3.8.5"
  }
 },
 "nbformat": 4,
 "nbformat_minor": 4
}
